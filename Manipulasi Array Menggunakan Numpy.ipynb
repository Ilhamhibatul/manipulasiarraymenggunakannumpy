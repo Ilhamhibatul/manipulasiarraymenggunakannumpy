{
  "nbformat": 4,
  "nbformat_minor": 0,
  "metadata": {
    "colab": {
      "provenance": [],
      "collapsed_sections": [
        "JC2ZLzUvDhC1",
        "5z0s08LbGxS_",
        "QTrm_1LddexU"
      ]
    },
    "kernelspec": {
      "name": "python3",
      "display_name": "Python 3"
    },
    "language_info": {
      "name": "python"
    }
  },
  "cells": [
    {
      "cell_type": "markdown",
      "source": [
        "Modul 1  praktikum datamining\n",
        "Manipulasi array menggunakan numpy"
      ],
      "metadata": {
        "id": "ifPT-bGM_Eih"
      }
    },
    {
      "cell_type": "code",
      "source": [
        "import numpy as np\n"
      ],
      "metadata": {
        "id": "6ytX2E3B_mpo"
      },
      "execution_count": 4,
      "outputs": []
    },
    {
      "cell_type": "markdown",
      "source": [
        "#Kode 1"
      ],
      "metadata": {
        "id": "JC2ZLzUvDhC1"
      }
    },
    {
      "cell_type": "markdown",
      "source": [
        "f. Buatlah array 2D berikut menggunakan numpy"
      ],
      "metadata": {
        "id": "6Dbr1rWRFAyW"
      }
    },
    {
      "cell_type": "code",
      "source": [
        "aray = np.array([[4, 4, 5],[7, 6, 4],[9, 7, 4],[6, 3, 7]])\n",
        "print(aray)"
      ],
      "metadata": {
        "colab": {
          "base_uri": "https://localhost:8080/",
          "height": 0
        },
        "id": "h408QjD3B1tb",
        "outputId": "d6df2aec-ef6b-4c50-b2ee-c1e633aa6434"
      },
      "execution_count": 14,
      "outputs": [
        {
          "output_type": "stream",
          "name": "stdout",
          "text": [
            "[[4 4 5]\n",
            " [7 6 4]\n",
            " [9 7 4]\n",
            " [6 3 7]]\n"
          ]
        }
      ]
    },
    {
      "cell_type": "markdown",
      "source": [
        "g. Buatlah array 3D berikut menggunakan numpy"
      ],
      "metadata": {
        "id": "gEJsYNqjFCiN"
      }
    },
    {
      "cell_type": "code",
      "source": [
        "aray = np.array([\n",
        "    [[7, 8, 5],[4, 7, 7],[7, 1, 9],[5, 4, 10]], \n",
        "    [[2, 1, 2],[9, 8, 5],[3, 7, 3],[4, 9, 9]],\n",
        "    [[2, 9, 3],[2, 4, 8],[1, 6, 6],[8, 1, 3]]\n",
        "])\n",
        "print(aray)"
      ],
      "metadata": {
        "colab": {
          "base_uri": "https://localhost:8080/",
          "height": 0
        },
        "id": "KrJkupgFE0xe",
        "outputId": "62068866-3870-4e12-9c41-0c0c306cfa6e"
      },
      "execution_count": 15,
      "outputs": [
        {
          "output_type": "stream",
          "name": "stdout",
          "text": [
            "[[[ 7  8  5]\n",
            "  [ 4  7  7]\n",
            "  [ 7  1  9]\n",
            "  [ 5  4 10]]\n",
            "\n",
            " [[ 2  1  2]\n",
            "  [ 9  8  5]\n",
            "  [ 3  7  3]\n",
            "  [ 4  9  9]]\n",
            "\n",
            " [[ 2  9  3]\n",
            "  [ 2  4  8]\n",
            "  [ 1  6  6]\n",
            "  [ 8  1  3]]]\n"
          ]
        }
      ]
    },
    {
      "cell_type": "markdown",
      "source": [
        "# Kode 2"
      ],
      "metadata": {
        "id": "5z0s08LbGxS_"
      }
    },
    {
      "cell_type": "markdown",
      "source": [
        "d. Tambahkan angka 1 pada setiap bilangan di baris ganjil array berikut. kemudian tambahkan angka\n",
        "2 pada setiap bilangan di kolom genap array berikut."
      ],
      "metadata": {
        "id": "rNlfp5r4G1zm"
      }
    },
    {
      "cell_type": "code",
      "source": [
        "aray1 = np.array([\n",
        "    [1, 8, 8, 2], \n",
        "    [8, 2, 1, 2],\n",
        "    [10, 1, 4, 7],\n",
        "    [1, 4, 7, 8],\n",
        "    [8, 2, 3, 4]\n",
        "])\n",
        "aray2 = np.array([\n",
        "    [1, 1, 1, 1],\n",
        "    [0, 0, 0, 0],\n",
        "    [1, 1, 1, 1],\n",
        "    [0, 0, 0, 0],\n",
        "    [1, 1, 1, 1]\n",
        "])\n",
        "aray3 = np.array([\n",
        "    [0, 2, 0, 2],\n",
        "    [0, 2, 0, 2],\n",
        "    [0, 2, 0, 2],\n",
        "    [0, 2, 0, 2],\n",
        "    [0, 2, 0, 2]\n",
        "])\n",
        "print(aray1+aray2+aray3)"
      ],
      "metadata": {
        "colab": {
          "base_uri": "https://localhost:8080/",
          "height": 0
        },
        "id": "Ksnu1TiRHBy1",
        "outputId": "a85b32a1-6bb7-4135-cd61-8f9202de2148"
      },
      "execution_count": 10,
      "outputs": [
        {
          "output_type": "stream",
          "name": "stdout",
          "text": [
            "[[ 2 11  9  5]\n",
            " [ 8  4  1  4]\n",
            " [11  4  5 10]\n",
            " [ 1  6  7 10]\n",
            " [ 9  5  4  7]]\n"
          ]
        }
      ]
    },
    {
      "cell_type": "markdown",
      "source": [
        "e. Baliklah sumbu z array 3D berikut\n"
      ],
      "metadata": {
        "id": "FH8TXixScnqs"
      }
    },
    {
      "cell_type": "code",
      "source": [
        "aray = np.array([\n",
        "    [[7, 8, 5], [4, 7, 7], [7, 1, 9], [5, 4, 10]],\n",
        "    [[2, 1, 2], [9, 8, 5], [3, 7, 3], [4, 9, 9]],\n",
        "    [[2, 9, 3], [2, 4, 8], [1, 6, 6], [8, 1, 3]]\n",
        "])\n",
        "print(aray[::-1])"
      ],
      "metadata": {
        "colab": {
          "base_uri": "https://localhost:8080/",
          "height": 0
        },
        "id": "e_n1oRvMcroN",
        "outputId": "d82c23f1-4ae9-4ba8-c78f-0ad99ac6b4ee"
      },
      "execution_count": 11,
      "outputs": [
        {
          "output_type": "stream",
          "name": "stdout",
          "text": [
            "[[[ 2  9  3]\n",
            "  [ 2  4  8]\n",
            "  [ 1  6  6]\n",
            "  [ 8  1  3]]\n",
            "\n",
            " [[ 2  1  2]\n",
            "  [ 9  8  5]\n",
            "  [ 3  7  3]\n",
            "  [ 4  9  9]]\n",
            "\n",
            " [[ 7  8  5]\n",
            "  [ 4  7  7]\n",
            "  [ 7  1  9]\n",
            "  [ 5  4 10]]]\n"
          ]
        }
      ]
    },
    {
      "cell_type": "markdown",
      "source": [
        "f. Ubahlah array pada soal e menjadi array 2D berukuran 6 x 6 (hint : gunakan perintah reshape)\n"
      ],
      "metadata": {
        "id": "81iLGWwwdBlC"
      }
    },
    {
      "cell_type": "code",
      "source": [
        "aray = np.array([\n",
        "    [[7, 8, 5], [4, 7, 7], [7, 1, 9], [5, 4, 10]],\n",
        "    [[2, 1, 2], [9, 8, 5], [3, 7, 3], [4, 9, 9]],\n",
        "    [[2, 9, 3], [2, 4, 8], [1, 6, 6], [8, 1, 3]]\n",
        "])\n",
        "print(aray.shape)\n",
        "np.reshape(aray, (6,6,))"
      ],
      "metadata": {
        "colab": {
          "base_uri": "https://localhost:8080/",
          "height": 0
        },
        "id": "FFV2Ci_QdFPj",
        "outputId": "1fefcc52-3ba6-4ae1-8788-fa0de2dd67e6"
      },
      "execution_count": 12,
      "outputs": [
        {
          "output_type": "stream",
          "name": "stdout",
          "text": [
            "(3, 4, 3)\n"
          ]
        },
        {
          "output_type": "execute_result",
          "data": {
            "text/plain": [
              "array([[ 7,  8,  5,  4,  7,  7],\n",
              "       [ 7,  1,  9,  5,  4, 10],\n",
              "       [ 2,  1,  2,  9,  8,  5],\n",
              "       [ 3,  7,  3,  4,  9,  9],\n",
              "       [ 2,  9,  3,  2,  4,  8],\n",
              "       [ 1,  6,  6,  8,  1,  3]])"
            ]
          },
          "metadata": {},
          "execution_count": 12
        }
      ]
    },
    {
      "cell_type": "markdown",
      "source": [
        "# Kode 3\n"
      ],
      "metadata": {
        "id": "QTrm_1LddexU"
      }
    },
    {
      "cell_type": "markdown",
      "source": [
        "e. Ubahlah matris kiri menjadi matriks sebelah kanan\n"
      ],
      "metadata": {
        "id": "-Adf8MHldhXU"
      }
    },
    {
      "cell_type": "code",
      "source": [
        "aray = np.array([\n",
        "    [5, 10, 10, 7],\n",
        "    [7, 8, 4, 10],\n",
        "    [9, 10, 2, 5],\n",
        "    [1, 8, 9, 3],\n",
        "    [6, 10, 5, 2],\n",
        "    [4, 6, 9, 4]\n",
        "])\n",
        "arayf = np.array([\n",
        "    [9, 3, 1, 8,],\n",
        "    [5, 2, 6, 10],\n",
        "    [9, 4, 4, 6,],\n",
        "    [10, 7, 5,10],\n",
        "    [4, 10, 7, 8],\n",
        "    [2, 5, 9,10,]\n",
        "])\n",
        "aray = np.array([\n",
        "    [5, 10, 10, 7],\n",
        "    [7, 8, 4, 10],\n",
        "    [9, 10, 2, 5],\n",
        "    [1, 8, 9, 3],\n",
        "    [6, 10, 5, 2],\n",
        "    [4, 6, 9, 4]\n",
        "])\n",
        "#Array dibagi mjd 4 \n",
        "araybaru1 = np.hsplit(aray, 2)\n",
        "araybaru2 = np.vsplit(araybaru1[0], 2)\n",
        "araybaru3 = np.vsplit(araybaru1[1], 2)\n",
        "#Menggabungkan array\n",
        "araybaru4 = np.hstack((araybaru3[1], araybaru2[1]))\n",
        "araybaru5 = np.hstack((araybaru3[0], araybaru2[0]))\n",
        "arayf = np.vstack((araybaru4, araybaru5))\n",
        "print(arayf)"
      ],
      "metadata": {
        "colab": {
          "base_uri": "https://localhost:8080/",
          "height": 0
        },
        "id": "1lAGcuhzdjy0",
        "outputId": "80c54577-e10c-4a64-8097-52eb80c8003e"
      },
      "execution_count": 13,
      "outputs": [
        {
          "output_type": "stream",
          "name": "stdout",
          "text": [
            "[[ 9  3  1  8]\n",
            " [ 5  2  6 10]\n",
            " [ 9  4  4  6]\n",
            " [10  7  5 10]\n",
            " [ 4 10  7  8]\n",
            " [ 2  5  9 10]]\n"
          ]
        }
      ]
    }
  ]
}